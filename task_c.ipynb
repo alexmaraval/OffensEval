{
  "nbformat": 4,
  "nbformat_minor": 0,
  "metadata": {
    "colab": {
      "name": "submit.ipynb",
      "version": "0.3.2",
      "provenance": [],
      "toc_visible": true
    },
    "kernelspec": {
      "display_name": "Python 3",
      "language": "python",
      "name": "python3"
    }
  },
  "cells": [
    {
      "metadata": {
        "id": "9hve3myFrnFG",
        "colab_type": "code",
        "outputId": "20df269d-3d16-401f-cce1-491624e43c6b",
        "colab": {
          "base_uri": "https://localhost:8080/",
          "height": 479
        }
      },
      "cell_type": "code",
      "source": [
        "import pandas as pd \n",
        "import utils.preprocessing\n",
        "from utils.test_model import *\n",
        "from utils.utils import make_submission\n",
        "import numpy as np\n",
        "\n",
        "df = pd.read_csv('data/raw/offenseval-training-v1.tsv', sep='\\t')\n",
        "utils.preprocessing.clean(df)\n",
        "df.head()"
      ],
      "execution_count": 3,
      "outputs": [
        {
          "output_type": "stream",
          "text": [
            "Collecting symspellpy\n",
            "  Downloading https://files.pythonhosted.org/packages/60/0d/f46a1a98fbaee317ff006134b2ced63e71ca57e63e71c9aa62d74b655a22/symspellpy-6.3.7-py3-none-any.whl\n",
            "Requirement already satisfied: numpy>=1.13.1 in /usr/local/lib/python3.6/dist-packages (from symspellpy) (1.14.6)\n",
            "Installing collected packages: symspellpy\n",
            "Successfully installed symspellpy-6.3.7\n",
            "[nltk_data] Downloading package stopwords to /root/nltk_data...\n",
            "[nltk_data]   Unzipping corpora/stopwords.zip.\n"
          ],
          "name": "stdout"
        },
        {
          "output_type": "stream",
          "text": [
            "Using TensorFlow backend.\n"
          ],
          "name": "stderr"
        },
        {
          "output_type": "execute_result",
          "data": {
            "text/html": [
              "<div>\n",
              "<style scoped>\n",
              "    .dataframe tbody tr th:only-of-type {\n",
              "        vertical-align: middle;\n",
              "    }\n",
              "\n",
              "    .dataframe tbody tr th {\n",
              "        vertical-align: top;\n",
              "    }\n",
              "\n",
              "    .dataframe thead th {\n",
              "        text-align: right;\n",
              "    }\n",
              "</style>\n",
              "<table border=\"1\" class=\"dataframe\">\n",
              "  <thead>\n",
              "    <tr style=\"text-align: right;\">\n",
              "      <th></th>\n",
              "      <th>id</th>\n",
              "      <th>tweet</th>\n",
              "      <th>subtask_a</th>\n",
              "      <th>subtask_b</th>\n",
              "      <th>subtask_c</th>\n",
              "      <th>clean_tweets</th>\n",
              "      <th>tokens</th>\n",
              "    </tr>\n",
              "  </thead>\n",
              "  <tbody>\n",
              "    <tr>\n",
              "      <th>0</th>\n",
              "      <td>86426</td>\n",
              "      <td>@USER She should ask a few native Americans wh...</td>\n",
              "      <td>OFF</td>\n",
              "      <td>UNT</td>\n",
              "      <td>NaN</td>\n",
              "      <td>ask nativ american</td>\n",
              "      <td>[ask, nativ, american]</td>\n",
              "    </tr>\n",
              "    <tr>\n",
              "      <th>1</th>\n",
              "      <td>90194</td>\n",
              "      <td>@USER @USER Go home you’re drunk!!! @USER #MAG...</td>\n",
              "      <td>OFF</td>\n",
              "      <td>TIN</td>\n",
              "      <td>IND</td>\n",
              "      <td>home drunk manga trump</td>\n",
              "      <td>[home, drunk, manga, trump]</td>\n",
              "    </tr>\n",
              "    <tr>\n",
              "      <th>2</th>\n",
              "      <td>16820</td>\n",
              "      <td>Amazon is investigating Chinese employees who ...</td>\n",
              "      <td>NOT</td>\n",
              "      <td>NaN</td>\n",
              "      <td>NaN</td>\n",
              "      <td>amazon investig chines employe sell intern dat...</td>\n",
              "      <td>[amazon, investig, chines, employe, sell, inte...</td>\n",
              "    </tr>\n",
              "    <tr>\n",
              "      <th>3</th>\n",
              "      <td>62688</td>\n",
              "      <td>@USER Someone should'veTaken\" this piece of sh...</td>\n",
              "      <td>OFF</td>\n",
              "      <td>UNT</td>\n",
              "      <td>NaN</td>\n",
              "      <td>someon retaken piec shit volcano</td>\n",
              "      <td>[someon, retaken, piec, shit, volcano]</td>\n",
              "    </tr>\n",
              "    <tr>\n",
              "      <th>4</th>\n",
              "      <td>43605</td>\n",
              "      <td>@USER @USER Obama wanted liberals &amp;amp; illega...</td>\n",
              "      <td>NOT</td>\n",
              "      <td>NaN</td>\n",
              "      <td>NaN</td>\n",
              "      <td>obama want liber amp illeg move red state</td>\n",
              "      <td>[obama, want, liber, amp, illeg, move, red, st...</td>\n",
              "    </tr>\n",
              "  </tbody>\n",
              "</table>\n",
              "</div>"
            ],
            "text/plain": [
              "      id                                              tweet subtask_a  \\\n",
              "0  86426  @USER She should ask a few native Americans wh...       OFF   \n",
              "1  90194  @USER @USER Go home you’re drunk!!! @USER #MAG...       OFF   \n",
              "2  16820  Amazon is investigating Chinese employees who ...       NOT   \n",
              "3  62688  @USER Someone should'veTaken\" this piece of sh...       OFF   \n",
              "4  43605  @USER @USER Obama wanted liberals &amp; illega...       NOT   \n",
              "\n",
              "  subtask_b subtask_c                                       clean_tweets  \\\n",
              "0       UNT       NaN                                 ask nativ american   \n",
              "1       TIN       IND                             home drunk manga trump   \n",
              "2       NaN       NaN  amazon investig chines employe sell intern dat...   \n",
              "3       UNT       NaN                   someon retaken piec shit volcano   \n",
              "4       NaN       NaN          obama want liber amp illeg move red state   \n",
              "\n",
              "                                              tokens  \n",
              "0                             [ask, nativ, american]  \n",
              "1                        [home, drunk, manga, trump]  \n",
              "2  [amazon, investig, chines, employe, sell, inte...  \n",
              "3             [someon, retaken, piec, shit, volcano]  \n",
              "4  [obama, want, liber, amp, illeg, move, red, st...  "
            ]
          },
          "metadata": {
            "tags": []
          },
          "execution_count": 3
        }
      ]
    },
    {
      "metadata": {
        "id": "bzcNUPrqrnFV",
        "colab_type": "code",
        "colab": {}
      },
      "cell_type": "code",
      "source": [
        "from sklearn.feature_extraction.text import CountVectorizer\n",
        "from sklearn.linear_model import LogisticRegression\n",
        "from sklearn.ensemble import RandomForestClassifier\n",
        "from sklearn.linear_model import RidgeClassifier\n",
        "\n",
        "#df = df.dropna(axis=0, subset=['clean_tweets','subtask_c'])\n",
        "X = df[\"clean_tweets\"]\n",
        "\n",
        "vec = CountVectorizer(ngram_range=(1,3), \n",
        "                      stop_words='english', \n",
        "                      max_features=10000)\n",
        "\n",
        "df_test = pd.read_csv('data/test/task_c/test_set_taskc.tsv', sep='\\t')\n",
        "utils.preprocessing.clean(df_test)"
      ],
      "execution_count": 0,
      "outputs": []
    },
    {
      "metadata": {
        "id": "b9-IaZvIHyNa",
        "colab_type": "code",
        "colab": {
          "base_uri": "https://localhost:8080/",
          "height": 34
        },
        "outputId": "54bf7047-360b-4b05-f1a5-f580636b069b"
      },
      "cell_type": "code",
      "source": [
        "y_train = df[\"subtask_c\"].map({\"IND\":0, \"GRP\":1, \"OTH\":2})\n",
        "\n",
        "\n",
        "# remove rows with NaN as label in y_train and X then build X_train\n",
        "(nan_idx,) = np.where(~np.isnan(y_train))\n",
        "print('Nan proportion (removed): {}%'.format(100*round(1-len(nan_idx) / y_train.shape[0], 4)))\n",
        "\n",
        "# clean from NaNs ans reset index to prevent errors in testing\n",
        "y_train = y_train.dropna().reset_index()['subtask_c']\n",
        "X_new = X.iloc[nan_idx].reset_index()['clean_tweets']"
      ],
      "execution_count": 47,
      "outputs": [
        {
          "output_type": "stream",
          "text": [
            "Nan proportion (removed): 70.73%\n"
          ],
          "name": "stdout"
        }
      ]
    },
    {
      "metadata": {
        "id": "cicoRmI1rnFd",
        "colab_type": "text"
      },
      "cell_type": "markdown",
      "source": [
        "## Subtask C"
      ]
    },
    {
      "metadata": {
        "id": "_Ocwpi7KrnFg",
        "colab_type": "code",
        "colab": {}
      },
      "cell_type": "code",
      "source": [
        "X_train = vec.fit_transform(X_new)\n",
        "X_test = vec.transform(df_test[\"clean_tweets\"])\n",
        "#y_train = df[\"subtask_c\"].map({\"IND\":0, \"GRP\":1, \"OTH\":2})"
      ],
      "execution_count": 0,
      "outputs": []
    },
    {
      "metadata": {
        "id": "55PaLOOmrnFn",
        "colab_type": "text"
      },
      "cell_type": "markdown",
      "source": [
        "### Logistic Regression"
      ]
    },
    {
      "metadata": {
        "id": "12uc8bP2rnFp",
        "colab_type": "code",
        "outputId": "018f81c5-7feb-43be-b814-968bc93d2e84",
        "colab": {
          "base_uri": "https://localhost:8080/",
          "height": 2009
        }
      },
      "cell_type": "code",
      "source": [
        "acc_scores_logreg = np.zeros(10)\n",
        "f1_scores_logreg = np.zeros(10)\n",
        "\n",
        "for i in range(10):\n",
        "  logreg = LogisticRegression(C=i+1, dual=True)\n",
        "  print(logreg)\n",
        "  print('=================================================================')\n",
        "\n",
        "  # Train Model\n",
        "  print('=========================== Training ============================')\n",
        "  logreg.fit(X_train, y_train)\n",
        "\n",
        "  # Evaluate Model\n",
        "  print('========================== Evaluating ===========================')\n",
        "  print('Accuracy:\\t{}'.format(round(100*logreg.score(X_train, y_train),4)))\n",
        "\n",
        "  # K-Fold Cross Validation\n",
        "  print('========================== Validating ===========================')\n",
        "  (f1_logreg, acc_logreg) = test_single_model(logreg, X_new, y_train, vec, n_splits=2, random_state=1)\n",
        "  acc_scores_logreg[i] = acc_logreg\n",
        "  f1_scores_logreg[i] = f1_logreg\n",
        "  print('Mean F1 score (3-fold CV):\\t{}%'.format(round(100*f1_logreg,4)))\n",
        "  print('Mean Accuracy (3-fold CV):\\t{}%'.format(round(100*acc_logreg,4)))\n",
        "\n",
        "# Predict on test set and write submission\n",
        "#y_pred_proba_logreg = logreg.predict_proba(X_test)\n",
        "#y_pred_logreg = np.argmax(y_pred_proba_logreg,1)\n",
        "#make_submission(y_pred_logreg, {\"UNT\":0, \"TIN\":1}, df_test, \"submissions/taskb_logreg.csv\")"
      ],
      "execution_count": 54,
      "outputs": [
        {
          "output_type": "stream",
          "text": [
            "LogisticRegression(C=1, class_weight=None, dual=True, fit_intercept=True,\n",
            "          intercept_scaling=1, max_iter=100, multi_class='warn',\n",
            "          n_jobs=None, penalty='l2', random_state=None, solver='warn',\n",
            "          tol=0.0001, verbose=0, warm_start=False)\n",
            "=================================================================\n",
            "=========================== Training ============================\n",
            "========================== Evaluating ===========================\n",
            "Accuracy:\t93.4985\n",
            "========================== Validating ===========================\n"
          ],
          "name": "stdout"
        },
        {
          "output_type": "stream",
          "text": [
            "/usr/local/lib/python3.6/dist-packages/sklearn/linear_model/logistic.py:433: FutureWarning: Default solver will be changed to 'lbfgs' in 0.22. Specify a solver to silence this warning.\n",
            "  FutureWarning)\n",
            "/usr/local/lib/python3.6/dist-packages/sklearn/linear_model/logistic.py:460: FutureWarning: Default multi_class will be changed to 'auto' in 0.22. Specify the multi_class option to silence this warning.\n",
            "  \"this warning.\", FutureWarning)\n"
          ],
          "name": "stderr"
        },
        {
          "output_type": "stream",
          "text": [
            "Mean F1 score (3-fold CV):\t45.327%\n",
            "Mean Accuracy (3-fold CV):\t67.5181%\n",
            "LogisticRegression(C=2, class_weight=None, dual=True, fit_intercept=True,\n",
            "          intercept_scaling=1, max_iter=100, multi_class='warn',\n",
            "          n_jobs=None, penalty='l2', random_state=None, solver='warn',\n",
            "          tol=0.0001, verbose=0, warm_start=False)\n",
            "=================================================================\n",
            "=========================== Training ============================\n",
            "========================== Evaluating ===========================\n",
            "Accuracy:\t95.9494\n",
            "========================== Validating ===========================\n",
            "Mean F1 score (3-fold CV):\t45.55%\n",
            "Mean Accuracy (3-fold CV):\t66.8215%\n",
            "LogisticRegression(C=3, class_weight=None, dual=True, fit_intercept=True,\n",
            "          intercept_scaling=1, max_iter=100, multi_class='warn',\n",
            "          n_jobs=None, penalty='l2', random_state=None, solver='warn',\n",
            "          tol=0.0001, verbose=0, warm_start=False)\n",
            "=================================================================\n",
            "=========================== Training ============================\n",
            "========================== Evaluating ===========================\n",
            "Accuracy:\t97.1362\n",
            "========================== Validating ===========================\n",
            "Mean F1 score (3-fold CV):\t46.1738%\n",
            "Mean Accuracy (3-fold CV):\t66.6409%\n",
            "LogisticRegression(C=4, class_weight=None, dual=True, fit_intercept=True,\n",
            "          intercept_scaling=1, max_iter=100, multi_class='warn',\n",
            "          n_jobs=None, penalty='l2', random_state=None, solver='warn',\n",
            "          tol=0.0001, verbose=0, warm_start=False)\n",
            "=================================================================\n",
            "=========================== Training ============================\n"
          ],
          "name": "stdout"
        },
        {
          "output_type": "stream",
          "text": [
            "/usr/local/lib/python3.6/dist-packages/sklearn/svm/base.py:931: ConvergenceWarning: Liblinear failed to converge, increase the number of iterations.\n",
            "  \"the number of iterations.\", ConvergenceWarning)\n"
          ],
          "name": "stderr"
        },
        {
          "output_type": "stream",
          "text": [
            "========================== Evaluating ===========================\n",
            "Accuracy:\t97.4974\n",
            "========================== Validating ===========================\n",
            "Mean F1 score (3-fold CV):\t46.058%\n",
            "Mean Accuracy (3-fold CV):\t66.3829%\n",
            "LogisticRegression(C=5, class_weight=None, dual=True, fit_intercept=True,\n",
            "          intercept_scaling=1, max_iter=100, multi_class='warn',\n",
            "          n_jobs=None, penalty='l2', random_state=None, solver='warn',\n",
            "          tol=0.0001, verbose=0, warm_start=False)\n",
            "=================================================================\n",
            "=========================== Training ============================\n",
            "========================== Evaluating ===========================\n",
            "Accuracy:\t97.8328\n",
            "========================== Validating ===========================\n",
            "Mean F1 score (3-fold CV):\t46.524%\n",
            "Mean Accuracy (3-fold CV):\t66.5893%\n",
            "LogisticRegression(C=6, class_weight=None, dual=True, fit_intercept=True,\n",
            "          intercept_scaling=1, max_iter=100, multi_class='warn',\n",
            "          n_jobs=None, penalty='l2', random_state=None, solver='warn',\n",
            "          tol=0.0001, verbose=0, warm_start=False)\n",
            "=================================================================\n",
            "=========================== Training ============================\n",
            "========================== Evaluating ===========================\n",
            "Accuracy:\t98.1424\n",
            "========================== Validating ===========================\n",
            "Mean F1 score (3-fold CV):\t46.3543%\n",
            "Mean Accuracy (3-fold CV):\t66.3313%\n",
            "LogisticRegression(C=7, class_weight=None, dual=True, fit_intercept=True,\n",
            "          intercept_scaling=1, max_iter=100, multi_class='warn',\n",
            "          n_jobs=None, penalty='l2', random_state=None, solver='warn',\n",
            "          tol=0.0001, verbose=0, warm_start=False)\n",
            "=================================================================\n",
            "=========================== Training ============================\n",
            "========================== Evaluating ===========================\n",
            "Accuracy:\t98.2456\n",
            "========================== Validating ===========================\n",
            "Mean F1 score (3-fold CV):\t46.2921%\n",
            "Mean Accuracy (3-fold CV):\t66.2281%\n",
            "LogisticRegression(C=8, class_weight=None, dual=True, fit_intercept=True,\n",
            "          intercept_scaling=1, max_iter=100, multi_class='warn',\n",
            "          n_jobs=None, penalty='l2', random_state=None, solver='warn',\n",
            "          tol=0.0001, verbose=0, warm_start=False)\n",
            "=================================================================\n",
            "=========================== Training ============================\n",
            "========================== Evaluating ===========================\n",
            "Accuracy:\t98.5294\n",
            "========================== Validating ===========================\n",
            "Mean F1 score (3-fold CV):\t46.2278%\n",
            "Mean Accuracy (3-fold CV):\t66.1507%\n",
            "LogisticRegression(C=9, class_weight=None, dual=True, fit_intercept=True,\n",
            "          intercept_scaling=1, max_iter=100, multi_class='warn',\n",
            "          n_jobs=None, penalty='l2', random_state=None, solver='warn',\n",
            "          tol=0.0001, verbose=0, warm_start=False)\n",
            "=================================================================\n",
            "=========================== Training ============================\n",
            "========================== Evaluating ===========================\n",
            "Accuracy:\t98.71\n",
            "========================== Validating ===========================\n",
            "Mean F1 score (3-fold CV):\t46.2681%\n",
            "Mean Accuracy (3-fold CV):\t65.9959%\n",
            "LogisticRegression(C=10, class_weight=None, dual=True, fit_intercept=True,\n",
            "          intercept_scaling=1, max_iter=100, multi_class='warn',\n",
            "          n_jobs=None, penalty='l2', random_state=None, solver='warn',\n",
            "          tol=0.0001, verbose=0, warm_start=False)\n",
            "=================================================================\n",
            "=========================== Training ============================\n",
            "========================== Evaluating ===========================\n",
            "Accuracy:\t98.839\n",
            "========================== Validating ===========================\n",
            "Mean F1 score (3-fold CV):\t46.0481%\n",
            "Mean Accuracy (3-fold CV):\t65.8153%\n"
          ],
          "name": "stdout"
        }
      ]
    },
    {
      "metadata": {
        "id": "C1I46tFupHo_",
        "colab_type": "code",
        "colab": {
          "base_uri": "https://localhost:8080/",
          "height": 361
        },
        "outputId": "c3e6b82f-4524-427e-b8d6-c41f728e0d82"
      },
      "cell_type": "code",
      "source": [
        "plt.scatter([i+1 for i in range(10)], acc_scores_logreg, label='accuracy')\n",
        "plt.scatter([i+1 for i in range(10)], f1_scores_logreg, label='f1_score')\n",
        "plt.legend()\n",
        "plt.xlabel('C')\n",
        "plt.savefig('logreg_scores_taskc.png')\n",
        "plt.show()"
      ],
      "execution_count": 59,
      "outputs": [
        {
          "output_type": "display_data",
          "data": {
            "image/png": "[encoded data removed]",
            "text/plain": [
              "<Figure size 576x396 with 1 Axes>"
            ]
          },
          "metadata": {
            "tags": []
          }
        }
      ]
    },
    {
      "metadata": {
        "id": "lHSAOne4hh4t",
        "colab_type": "text"
      },
      "cell_type": "markdown",
      "source": [
        "### Ridge Regression"
      ]
    },
    {
      "metadata": {
        "id": "zoIuP8E2hMYR",
        "colab_type": "code",
        "colab": {
          "base_uri": "https://localhost:8080/",
          "height": 3417
        },
        "outputId": "0c6d4de9-78cf-46ec-9556-f1d541601e1f"
      },
      "cell_type": "code",
      "source": [
        "acc_scores = np.zeros(20)\n",
        "f1_scores = np.zeros(20)\n",
        "\n",
        "for i in range(20):\n",
        "  alpha = 0.05 * i\n",
        "  ridgereg = RidgeClassifier(alpha = alpha)\n",
        "  print(ridgereg)\n",
        "  print('=================================================================')\n",
        "\n",
        "  # Train Model\n",
        "  print('=========================== Training ============================')\n",
        "  ridgereg.fit(X_train, y_train)\n",
        "\n",
        "  # Evaluate Model\n",
        "  print('========================== Evaluating ===========================')\n",
        "  print('Accuracy:\\t{}'.format(round(100*ridgereg.score(X_train, y_train),4)))\n",
        "\n",
        "  # K-Fold Cross Validation\n",
        "  print('========================== Validating ===========================')\n",
        "  (f1_ridgereg, acc_ridgereg) = test_single_model(ridgereg, X_new, y_train, vec, n_splits=3, random_state=1)\n",
        "  acc_scores[i] = acc_ridgereg\n",
        "  f1_scores[i] = f1_ridgereg\n",
        "  print('Mean F1 score (3-fold CV):\\t{}%'.format(round(100*f1_ridgereg,4)))\n",
        "  print('Mean Accuracy (3-fold CV):\\t{}%'.format(round(100*acc_ridgereg,4)))\n"
      ],
      "execution_count": 49,
      "outputs": [
        {
          "output_type": "stream",
          "text": [
            "RidgeClassifier(alpha=0.0, class_weight=None, copy_X=True, fit_intercept=True,\n",
            "        max_iter=None, normalize=False, random_state=None, solver='auto',\n",
            "        tol=0.001)\n",
            "=================================================================\n",
            "=========================== Training ============================\n",
            "========================== Evaluating ===========================\n",
            "Accuracy:\t98.8906\n",
            "========================== Validating ===========================\n",
            "Mean F1 score (3-fold CV):\t44.8502%\n",
            "Mean Accuracy (3-fold CV):\t60.8359%\n",
            "RidgeClassifier(alpha=0.05, class_weight=None, copy_X=True,\n",
            "        fit_intercept=True, max_iter=None, normalize=False,\n",
            "        random_state=None, solver='auto', tol=0.001)\n",
            "=================================================================\n",
            "=========================== Training ============================\n",
            "========================== Evaluating ===========================\n",
            "Accuracy:\t98.839\n",
            "========================== Validating ===========================\n",
            "Mean F1 score (3-fold CV):\t44.8323%\n",
            "Mean Accuracy (3-fold CV):\t61.1971%\n",
            "RidgeClassifier(alpha=0.1, class_weight=None, copy_X=True, fit_intercept=True,\n",
            "        max_iter=None, normalize=False, random_state=None, solver='auto',\n",
            "        tol=0.001)\n",
            "=================================================================\n",
            "=========================== Training ============================\n",
            "========================== Evaluating ===========================\n",
            "Accuracy:\t98.7616\n",
            "========================== Validating ===========================\n",
            "Mean F1 score (3-fold CV):\t45.1022%\n",
            "Mean Accuracy (3-fold CV):\t61.5067%\n",
            "RidgeClassifier(alpha=0.15000000000000002, class_weight=None, copy_X=True,\n",
            "        fit_intercept=True, max_iter=None, normalize=False,\n",
            "        random_state=None, solver='auto', tol=0.001)\n",
            "=================================================================\n",
            "=========================== Training ============================\n",
            "========================== Evaluating ===========================\n",
            "Accuracy:\t98.6584\n",
            "========================== Validating ===========================\n",
            "Mean F1 score (3-fold CV):\t45.2046%\n",
            "Mean Accuracy (3-fold CV):\t61.7131%\n",
            "RidgeClassifier(alpha=0.2, class_weight=None, copy_X=True, fit_intercept=True,\n",
            "        max_iter=None, normalize=False, random_state=None, solver='auto',\n",
            "        tol=0.001)\n",
            "=================================================================\n",
            "=========================== Training ============================\n",
            "========================== Evaluating ===========================\n",
            "Accuracy:\t98.5294\n",
            "========================== Validating ===========================\n",
            "Mean F1 score (3-fold CV):\t45.1739%\n",
            "Mean Accuracy (3-fold CV):\t61.9453%\n",
            "RidgeClassifier(alpha=0.25, class_weight=None, copy_X=True,\n",
            "        fit_intercept=True, max_iter=None, normalize=False,\n",
            "        random_state=None, solver='auto', tol=0.001)\n",
            "=================================================================\n",
            "=========================== Training ============================\n",
            "========================== Evaluating ===========================\n",
            "Accuracy:\t98.4778\n",
            "========================== Validating ===========================\n",
            "Mean F1 score (3-fold CV):\t45.3724%\n",
            "Mean Accuracy (3-fold CV):\t62.2549%\n",
            "RidgeClassifier(alpha=0.30000000000000004, class_weight=None, copy_X=True,\n",
            "        fit_intercept=True, max_iter=None, normalize=False,\n",
            "        random_state=None, solver='auto', tol=0.001)\n",
            "=================================================================\n",
            "=========================== Training ============================\n",
            "========================== Evaluating ===========================\n",
            "Accuracy:\t98.3746\n",
            "========================== Validating ===========================\n",
            "Mean F1 score (3-fold CV):\t45.5548%\n",
            "Mean Accuracy (3-fold CV):\t62.5129%\n",
            "RidgeClassifier(alpha=0.35000000000000003, class_weight=None, copy_X=True,\n",
            "        fit_intercept=True, max_iter=None, normalize=False,\n",
            "        random_state=None, solver='auto', tol=0.001)\n",
            "=================================================================\n",
            "=========================== Training ============================\n",
            "========================== Evaluating ===========================\n",
            "Accuracy:\t98.2714\n",
            "========================== Validating ===========================\n",
            "Mean F1 score (3-fold CV):\t45.7406%\n",
            "Mean Accuracy (3-fold CV):\t62.7709%\n",
            "RidgeClassifier(alpha=0.4, class_weight=None, copy_X=True, fit_intercept=True,\n",
            "        max_iter=None, normalize=False, random_state=None, solver='auto',\n",
            "        tol=0.001)\n",
            "=================================================================\n",
            "=========================== Training ============================\n",
            "========================== Evaluating ===========================\n",
            "Accuracy:\t98.1682\n",
            "========================== Validating ===========================\n",
            "Mean F1 score (3-fold CV):\t45.8946%\n",
            "Mean Accuracy (3-fold CV):\t63.0031%\n",
            "RidgeClassifier(alpha=0.45, class_weight=None, copy_X=True,\n",
            "        fit_intercept=True, max_iter=None, normalize=False,\n",
            "        random_state=None, solver='auto', tol=0.001)\n",
            "=================================================================\n",
            "=========================== Training ============================\n",
            "========================== Evaluating ===========================\n",
            "Accuracy:\t98.1166\n",
            "========================== Validating ===========================\n",
            "Mean F1 score (3-fold CV):\t46.1105%\n",
            "Mean Accuracy (3-fold CV):\t63.1837%\n",
            "RidgeClassifier(alpha=0.5, class_weight=None, copy_X=True, fit_intercept=True,\n",
            "        max_iter=None, normalize=False, random_state=None, solver='auto',\n",
            "        tol=0.001)\n",
            "=================================================================\n",
            "=========================== Training ============================\n",
            "========================== Evaluating ===========================\n",
            "Accuracy:\t98.0134\n",
            "========================== Validating ===========================\n",
            "Mean F1 score (3-fold CV):\t46.2944%\n",
            "Mean Accuracy (3-fold CV):\t63.4675%\n",
            "RidgeClassifier(alpha=0.55, class_weight=None, copy_X=True,\n",
            "        fit_intercept=True, max_iter=None, normalize=False,\n",
            "        random_state=None, solver='auto', tol=0.001)\n",
            "=================================================================\n",
            "=========================== Training ============================\n",
            "========================== Evaluating ===========================\n",
            "Accuracy:\t97.9618\n",
            "========================== Validating ===========================\n",
            "Mean F1 score (3-fold CV):\t46.293%\n",
            "Mean Accuracy (3-fold CV):\t63.4675%\n",
            "RidgeClassifier(alpha=0.6000000000000001, class_weight=None, copy_X=True,\n",
            "        fit_intercept=True, max_iter=None, normalize=False,\n",
            "        random_state=None, solver='auto', tol=0.001)\n",
            "=================================================================\n",
            "=========================== Training ============================\n",
            "========================== Evaluating ===========================\n",
            "Accuracy:\t97.8328\n",
            "========================== Validating ===========================\n",
            "Mean F1 score (3-fold CV):\t46.2376%\n",
            "Mean Accuracy (3-fold CV):\t63.5449%\n",
            "RidgeClassifier(alpha=0.65, class_weight=None, copy_X=True,\n",
            "        fit_intercept=True, max_iter=None, normalize=False,\n",
            "        random_state=None, solver='auto', tol=0.001)\n",
            "=================================================================\n",
            "=========================== Training ============================\n",
            "========================== Evaluating ===========================\n",
            "Accuracy:\t97.807\n",
            "========================== Validating ===========================\n",
            "Mean F1 score (3-fold CV):\t45.9638%\n",
            "Mean Accuracy (3-fold CV):\t63.5707%\n",
            "RidgeClassifier(alpha=0.7000000000000001, class_weight=None, copy_X=True,\n",
            "        fit_intercept=True, max_iter=None, normalize=False,\n",
            "        random_state=None, solver='auto', tol=0.001)\n",
            "=================================================================\n",
            "=========================== Training ============================\n",
            "========================== Evaluating ===========================\n",
            "Accuracy:\t97.678\n",
            "========================== Validating ===========================\n",
            "Mean F1 score (3-fold CV):\t45.8944%\n",
            "Mean Accuracy (3-fold CV):\t63.6997%\n",
            "RidgeClassifier(alpha=0.75, class_weight=None, copy_X=True,\n",
            "        fit_intercept=True, max_iter=None, normalize=False,\n",
            "        random_state=None, solver='auto', tol=0.001)\n",
            "=================================================================\n",
            "=========================== Training ============================\n",
            "========================== Evaluating ===========================\n",
            "Accuracy:\t97.6522\n",
            "========================== Validating ===========================\n",
            "Mean F1 score (3-fold CV):\t45.9791%\n",
            "Mean Accuracy (3-fold CV):\t63.8029%\n",
            "RidgeClassifier(alpha=0.8, class_weight=None, copy_X=True, fit_intercept=True,\n",
            "        max_iter=None, normalize=False, random_state=None, solver='auto',\n",
            "        tol=0.001)\n",
            "=================================================================\n",
            "=========================== Training ============================\n",
            "========================== Evaluating ===========================\n",
            "Accuracy:\t97.5232\n",
            "========================== Validating ===========================\n",
            "Mean F1 score (3-fold CV):\t45.6309%\n",
            "Mean Accuracy (3-fold CV):\t63.6481%\n",
            "RidgeClassifier(alpha=0.8500000000000001, class_weight=None, copy_X=True,\n",
            "        fit_intercept=True, max_iter=None, normalize=False,\n",
            "        random_state=None, solver='auto', tol=0.001)\n",
            "=================================================================\n",
            "=========================== Training ============================\n",
            "========================== Evaluating ===========================\n",
            "Accuracy:\t97.5232\n",
            "========================== Validating ===========================\n",
            "Mean F1 score (3-fold CV):\t45.6624%\n",
            "Mean Accuracy (3-fold CV):\t63.7771%\n",
            "RidgeClassifier(alpha=0.9, class_weight=None, copy_X=True, fit_intercept=True,\n",
            "        max_iter=None, normalize=False, random_state=None, solver='auto',\n",
            "        tol=0.001)\n",
            "=================================================================\n",
            "=========================== Training ============================\n",
            "========================== Evaluating ===========================\n",
            "Accuracy:\t97.4716\n",
            "========================== Validating ===========================\n",
            "Mean F1 score (3-fold CV):\t45.401%\n",
            "Mean Accuracy (3-fold CV):\t63.6997%\n",
            "RidgeClassifier(alpha=0.9500000000000001, class_weight=None, copy_X=True,\n",
            "        fit_intercept=True, max_iter=None, normalize=False,\n",
            "        random_state=None, solver='auto', tol=0.001)\n",
            "=================================================================\n",
            "=========================== Training ============================\n",
            "========================== Evaluating ===========================\n",
            "Accuracy:\t97.42\n",
            "========================== Validating ===========================\n",
            "Mean F1 score (3-fold CV):\t45.4152%\n",
            "Mean Accuracy (3-fold CV):\t63.8803%\n"
          ],
          "name": "stdout"
        }
      ]
    },
    {
      "metadata": {
        "id": "pGaelOLCl_c8",
        "colab_type": "code",
        "colab": {
          "base_uri": "https://localhost:8080/",
          "height": 361
        },
        "outputId": "32dec0b2-f85e-4b5a-cf95-9a85d2d65e9b"
      },
      "cell_type": "code",
      "source": [
        "import matplotlib.pyplot as plt\n",
        "\n",
        "plt.scatter([i*0.05 for i in range(20)], acc_scores, label='accuracy')\n",
        "plt.scatter([i*0.05 for i in range(20)], f1_scores, label='f1_score')\n",
        "plt.legend()\n",
        "plt.xlabel('alpha')\n",
        "plt.savefig('ridgereg_scores_taskc.png')\n",
        "plt.show()"
      ],
      "execution_count": 60,
      "outputs": [
        {
          "output_type": "display_data",
          "data": {
            "image/png": "[encoded data removed]",
            "text/plain": [
              "<Figure size 576x396 with 1 Axes>"
            ]
          },
          "metadata": {
            "tags": []
          }
        }
      ]
    },
    {
      "metadata": {
        "id": "HL2v5DZ5a3cr",
        "colab_type": "text"
      },
      "cell_type": "markdown",
      "source": [
        "### Linear SVC"
      ]
    },
    {
      "metadata": {
        "id": "diR-krUPW-cM",
        "colab_type": "code",
        "colab": {
          "base_uri": "https://localhost:8080/",
          "height": 292
        },
        "outputId": "92884b94-5147-419d-cd8a-cdb783d851a4"
      },
      "cell_type": "code",
      "source": [
        "from sklearn.svm import SVC\n",
        "\n",
        "svc = SVC(C=4, kernel='sigmoid', shrinking=True, decision_function_shape='ovo', probability=True)\n",
        "print(svc)\n",
        "print('=================================================================')\n",
        "\n",
        "# Train Model\n",
        "print('=========================== Training ============================')\n",
        "svc.fit(X_train, y_train)\n",
        "\n",
        "# Evaluate Model\n",
        "print('========================== Evaluating ===========================')\n",
        "print('Accuracy:\\t{}'.format(round(100*svc.score(X_train, y_train),4)))\n",
        "\n",
        "# K-Fold Cross Validation\n",
        "print('========================== Validating ===========================')\n",
        "(f1_svc, acc_svc) = test_single_model(svc, X_new, y_train, vec, n_splits=3, random_state=1)\n",
        "print('Mean F1 score (3-fold CV):\\t{}%'.format(round(100*f1_svc,4)))\n",
        "print('Mean Accuracy (3-fold CV):\\t{}%'.format(round(100*acc_svc,4)))\n",
        "\n",
        "# Predict on test set and write submission\n",
        "#y_pred_proba_svc = svc.predict_proba(X_test)\n",
        "#y_pred_svc = np.argmax(y_pred_proba_svc,1)\n",
        "#make_submission(y_pred_svc, {\"UNT\":0, \"TIN\":1}, df_test, \"submissions/taskb_svc.csv\")"
      ],
      "execution_count": 61,
      "outputs": [
        {
          "output_type": "stream",
          "text": [
            "SVC(C=4, cache_size=200, class_weight=None, coef0=0.0,\n",
            "  decision_function_shape='ovo', degree=3, gamma='auto_deprecated',\n",
            "  kernel='sigmoid', max_iter=-1, probability=True, random_state=None,\n",
            "  shrinking=True, tol=0.001, verbose=False)\n",
            "=================================================================\n",
            "=========================== Training ============================\n"
          ],
          "name": "stdout"
        },
        {
          "output_type": "stream",
          "text": [
            "/usr/local/lib/python3.6/dist-packages/sklearn/svm/base.py:196: FutureWarning: The default value of gamma will change from 'auto' to 'scale' in version 0.22 to account better for unscaled features. Set gamma explicitly to 'auto' or 'scale' to avoid this warning.\n",
            "  \"avoid this warning.\", FutureWarning)\n"
          ],
          "name": "stderr"
        },
        {
          "output_type": "stream",
          "text": [
            "========================== Evaluating ===========================\n",
            "Accuracy:\t62.1001\n",
            "========================== Validating ===========================\n"
          ],
          "name": "stdout"
        },
        {
          "output_type": "stream",
          "text": [
            "/usr/local/lib/python3.6/dist-packages/sklearn/metrics/classification.py:1145: UndefinedMetricWarning: F-score is ill-defined and being set to 0.0 in labels with no true samples.\n",
            "  'recall', 'true', average, warn_for)\n"
          ],
          "name": "stderr"
        },
        {
          "output_type": "stream",
          "text": [
            "Mean F1 score (3-fold CV):\t25.5383%\n",
            "Mean Accuracy (3-fold CV):\t62.1001%\n"
          ],
          "name": "stdout"
        }
      ]
    },
    {
      "metadata": {
        "id": "DmduYh55a-aa",
        "colab_type": "text"
      },
      "cell_type": "markdown",
      "source": [
        "### Random Forest"
      ]
    },
    {
      "metadata": {
        "id": "KTDoJW9wXKWm",
        "colab_type": "code",
        "colab": {}
      },
      "cell_type": "code",
      "source": [
        "from scipy.sparse import hstack\n",
        "\n",
        "word_vec = CountVectorizer(ngram_range=(1,3), stop_words='english',analyzer='word', max_features=32500)\n",
        "train_word_features = word_vec.fit_transform(X_new)\n",
        "test_word_features = word_vec.fit_transform(df_test[\"clean_tweets\"])\n",
        "\n",
        "char_vec = CountVectorizer(ngram_range=(1,3), stop_words='english',analyzer='char', max_features=32500)\n",
        "train_char_features = char_vec.fit_transform(X_new)\n",
        "test_char_features = char_vec.fit_transform(df_test[\"clean_tweets\"])\n",
        "\n",
        "train_features = hstack([train_char_features, train_word_features])\n",
        "test_features = hstack([test_char_features, test_word_features])"
      ],
      "execution_count": 0,
      "outputs": []
    },
    {
      "metadata": {
        "id": "SDonKChYXWqw",
        "colab_type": "code",
        "colab": {
          "base_uri": "https://localhost:8080/",
          "height": 255
        },
        "outputId": "7e060f43-004e-4ecc-8ed7-d8660812da0f"
      },
      "cell_type": "code",
      "source": [
        "rfc = RandomForestClassifier(bootstrap=True, class_weight='balanced', criterion='gini',\n",
        "            max_depth=100, max_features=1000, max_leaf_nodes=50,\n",
        "            min_impurity_decrease=0.0, min_impurity_split=None,\n",
        "            min_samples_leaf=3, min_samples_split=10,\n",
        "            min_weight_fraction_leaf=0.0, n_estimators=10, n_jobs=1,\n",
        "            oob_score=False, random_state=None, verbose=0,\n",
        "            warm_start=False)\n",
        "\n",
        "print(rfc)\n",
        "print('=================================================================')\n",
        "\n",
        "# Train Model\n",
        "print('=========================== Training ============================')\n",
        "rfc.fit(train_features, y_train)\n",
        "\n",
        "# Evaluate Model\n",
        "print('========================== Evaluating ===========================')\n",
        "print('Accuracy:\\t{}'.format(round(100*rfc.score(train_features, y_train),4)))\n",
        "\n",
        "# K-Fold Cross Validation\n",
        "print('========================== Validating ===========================')\n",
        "(f1_rfc, acc_rfc) = test_single_model(rfc, X_new, y_train, [word_vec, char_vec], \n",
        "                                      n_splits=3, random_state=1)\n",
        "print('Mean F1 score (3-fold CV):\\t{}%'.format(round(100*f1_rfc,4)))\n",
        "print('Mean Accuracy (3-fold CV):\\t{}%'.format(round(100*acc_rfc,4)))\n",
        "\n",
        "# Predict on test set and write submission\n",
        "#y_pred_proba_rfc = rfc.predict_proba(X_test)\n",
        "#y_pred_rfc = np.argmax(y_pred_proba_rfc,1)\n",
        "#make_submission(y_pred_rfc, {\"UNT\":0, \"TIN\":1}, df_test, \"submissions/taskb_rfc.csv\")"
      ],
      "execution_count": 63,
      "outputs": [
        {
          "output_type": "stream",
          "text": [
            "RandomForestClassifier(bootstrap=True, class_weight='balanced',\n",
            "            criterion='gini', max_depth=100, max_features=1000,\n",
            "            max_leaf_nodes=50, min_impurity_decrease=0.0,\n",
            "            min_impurity_split=None, min_samples_leaf=3,\n",
            "            min_samples_split=10, min_weight_fraction_leaf=0.0,\n",
            "            n_estimators=10, n_jobs=1, oob_score=False, random_state=None,\n",
            "            verbose=0, warm_start=False)\n",
            "=================================================================\n",
            "=========================== Training ============================\n",
            "========================== Evaluating ===========================\n",
            "Accuracy:\t69.0144\n",
            "========================== Validating ===========================\n",
            "Mean F1 score (3-fold CV):\t46.1781%\n",
            "Mean Accuracy (3-fold CV):\t59.9071%\n"
          ],
          "name": "stdout"
        }
      ]
    },
    {
      "metadata": {
        "id": "KsQHaDGcbIM9",
        "colab_type": "text"
      },
      "cell_type": "markdown",
      "source": [
        "### CNN"
      ]
    },
    {
      "metadata": {
        "id": "nFr3gm8h1osM",
        "colab_type": "code",
        "colab": {}
      },
      "cell_type": "code",
      "source": [
        "from keras.utils import to_categorical\n",
        "from keras.preprocessing import sequence\n",
        "from utils.keras_utils import f1_loss\n",
        "from keras.models import Sequential\n",
        "from keras.layers import Input, Embedding, Bidirectional, LSTM, GlobalMaxPool1D, Dropout, Dense\n",
        "from keras.preprocessing import text\n",
        "from keras.models import Sequential\n",
        "from keras.layers import Dense, Conv1D, MaxPooling1D, Flatten, Embedding\n",
        "\n",
        "\n",
        "tokenizer = text.Tokenizer(num_words=15000)\n",
        "tokenizer.fit_on_texts(X_new)\n",
        "\n",
        "X_test = df_test[\"clean_tweets\"]\n",
        "list_tokenized_train = tokenizer.texts_to_sequences(X_new)\n",
        "list_tokenized_test = tokenizer.texts_to_sequences(X_test)\n",
        "\n",
        "y_cat = to_categorical(y_train)\n",
        "\n",
        "X_tr = sequence.pad_sequences(list_tokenized_train, maxlen=100)\n",
        "X_te = sequence.pad_sequences(list_tokenized_test, maxlen=100)"
      ],
      "execution_count": 0,
      "outputs": []
    },
    {
      "metadata": {
        "id": "kHoBT1UaYtz1",
        "colab_type": "code",
        "colab": {
          "base_uri": "https://localhost:8080/",
          "height": 785
        },
        "outputId": "fb47872b-556c-4dd8-afdf-56690439f2c4"
      },
      "cell_type": "code",
      "source": [
        "# Define Model\n",
        "cnn = Sequential()\n",
        "cnn.add(Embedding(15000, 16, input_length=100))\n",
        "cnn.add(Conv1D(16, 4, activation='relu'))\n",
        "cnn.add(MaxPooling1D(4))\n",
        "cnn.add(Flatten())\n",
        "cnn.add(Dropout(rate=0.25))\n",
        "cnn.add(Dense(units=16, activation='relu'))\n",
        "cnn.add(Dropout(rate=0.15))\n",
        "cnn.add(Dense(units=8, activation='relu'))\n",
        "cnn.add(Dense(units=3, activation='softmax'))\n",
        "cnn.compile(loss=f1_loss, optimizer='adam', metrics=['accuracy'])\n",
        "print(cnn.summary())\n",
        "print('=================================================================')\n",
        "\n",
        "# Train Model\n",
        "print('=========================== Training ============================')\n",
        "cnn.fit(X_tr, y_cat, epochs=20,  batch_size=64, verbose=False)\n",
        "\n",
        "# Evaluate Model\n",
        "print('========================== Evaluating ===========================')\n",
        "evaluation_cnn = cnn.evaluate(X_tr, y_cat, batch_size=64, verbose=1)\n",
        "print('{}:\\t{}'.format(cnn.metrics_names[0], round(100*evaluation_cnn[0],4)))\n",
        "print('{}:\\t{}%'.format(cnn.metrics_names[1], round(100*evaluation_cnn[1],4)))\n",
        "\n",
        "# K-Fold Cross Validation\n",
        "print('========================== Validating ===========================')\n",
        "(f1_cnn, acc_cnn) = test_single_model(cnn, X_new, y_train, tokenizer, epochs=10,\n",
        "                                      n_splits=3, random_state=1, verbose=False)\n",
        "print('Mean F1 score (3-fold CV):\\t{}%'.format(round(100*f1_cnn,4)))\n",
        "print('Mean Accuracy (3-fold CV):\\t{}%'.format(round(100*acc_cnn,4)))\n",
        "\n",
        "# Predict on test set and write submission\n",
        "#y_pred_proba_cnn = cnn.predict(X_te)\n",
        "#y_pred_cnn = np.argmax(y_pred_proba_cnn, axis=1)\n",
        "#make_submission(y_pred_cnn, {\"UNT\":0, \"TIN\":1}, df_test, \"submissions/taskb_cnn.csv\")"
      ],
      "execution_count": 65,
      "outputs": [
        {
          "output_type": "stream",
          "text": [
            "WARNING:tensorflow:From /usr/local/lib/python3.6/dist-packages/tensorflow/python/framework/op_def_library.py:263: colocate_with (from tensorflow.python.framework.ops) is deprecated and will be removed in a future version.\n",
            "Instructions for updating:\n",
            "Colocations handled automatically by placer.\n",
            "WARNING:tensorflow:From /usr/local/lib/python3.6/dist-packages/keras/backend/tensorflow_backend.py:3445: calling dropout (from tensorflow.python.ops.nn_ops) with keep_prob is deprecated and will be removed in a future version.\n",
            "Instructions for updating:\n",
            "Please use `rate` instead of `keep_prob`. Rate should be set to `rate = 1 - keep_prob`.\n",
            "_________________________________________________________________\n",
            "Layer (type)                 Output Shape              Param #   \n",
            "=================================================================\n",
            "embedding_1 (Embedding)      (None, 100, 16)           240000    \n",
            "_________________________________________________________________\n",
            "conv1d_1 (Conv1D)            (None, 97, 16)            1040      \n",
            "_________________________________________________________________\n",
            "max_pooling1d_1 (MaxPooling1 (None, 24, 16)            0         \n",
            "_________________________________________________________________\n",
            "flatten_1 (Flatten)          (None, 384)               0         \n",
            "_________________________________________________________________\n",
            "dropout_1 (Dropout)          (None, 384)               0         \n",
            "_________________________________________________________________\n",
            "dense_1 (Dense)              (None, 16)                6160      \n",
            "_________________________________________________________________\n",
            "dropout_2 (Dropout)          (None, 16)                0         \n",
            "_________________________________________________________________\n",
            "dense_2 (Dense)              (None, 8)                 136       \n",
            "_________________________________________________________________\n",
            "dense_3 (Dense)              (None, 3)                 27        \n",
            "=================================================================\n",
            "Total params: 247,363\n",
            "Trainable params: 247,363\n",
            "Non-trainable params: 0\n",
            "_________________________________________________________________\n",
            "None\n",
            "=================================================================\n",
            "=========================== Training ============================\n",
            "WARNING:tensorflow:From /usr/local/lib/python3.6/dist-packages/tensorflow/python/ops/math_ops.py:3066: to_int32 (from tensorflow.python.ops.math_ops) is deprecated and will be removed in a future version.\n",
            "Instructions for updating:\n",
            "Use tf.cast instead.\n",
            "========================== Evaluating ===========================\n",
            "3876/3876 [==============================] - 0s 52us/step\n",
            "loss:\t16.1218\n",
            "acc:\t88.1837%\n",
            "========================== Validating ===========================\n",
            "Mean F1 score (3-fold CV):\t56.6192%\n",
            "Mean Accuracy (3-fold CV):\t67.6471%\n"
          ],
          "name": "stdout"
        }
      ]
    },
    {
      "metadata": {
        "id": "ADtkEyXCbQBH",
        "colab_type": "text"
      },
      "cell_type": "markdown",
      "source": [
        "### LSTM"
      ]
    },
    {
      "metadata": {
        "id": "iyAeuEixZWwA",
        "colab_type": "code",
        "colab": {
          "base_uri": "https://localhost:8080/",
          "height": 510
        },
        "outputId": "efbe1f2e-2a28-4d4a-f1e1-1e020a80decf"
      },
      "cell_type": "code",
      "source": [
        "# Define Model\n",
        "lstm = Sequential()\n",
        "lstm.add(Embedding(15000, 32, input_length=100))\n",
        "lstm.add(Bidirectional(LSTM(16, return_sequences=True)))\n",
        "lstm.add(GlobalMaxPool1D())\n",
        "lstm.add(Dropout(0.3))\n",
        "lstm.add(Dense(8, activation=\"relu\"))\n",
        "lstm.add(Dense(3, activation=\"softmax\"))\n",
        "lstm.compile(loss=f1_loss, optimizer='adam', metrics=['accuracy'])\n",
        "print(lstm.summary())\n",
        "print('=================================================================')\n",
        "\n",
        "# Train Model\n",
        "print('=========================== Training ============================')\n",
        "lstm.fit(X_tr, y_cat, epochs=10,  batch_size=64, verbose=False)\n",
        "\n",
        "# Evaluate Model\n",
        "print('========================== Evaluating ===========================')\n",
        "evaluation_lstm = lstm.evaluate(X_tr, y_cat, batch_size=64, verbose=1)\n",
        "print('{}:\\t{}'.format(lstm.metrics_names[0], round(100*evaluation_lstm[0],4)))\n",
        "print('{}:\\t{}%'.format(lstm.metrics_names[1], round(100*evaluation_lstm[1],4)))\n",
        "\n",
        "# K-Fold Cross Validation\n",
        "print('========================== Validating ===========================')\n",
        "test_single_model(lstm, X_new, y_train, tokenizer, n_splits=3, random_state=1, verbose=False)\n",
        "(f1_lstm, acc_lstm) = test_single_model(lstm, X_new, y_train, tokenizer, \n",
        "                                        n_splits=3, random_state=1, verbose=False)\n",
        "print('Mean F1 score (3-fold CV):\\t{}%'.format(round(100*f1_lstm,4)))\n",
        "print('Mean Accuracy (3-fold CV):\\t{}%'.format(round(100*acc_lstm,4)))\n",
        "\n",
        "# Predict on test set and write submission\n",
        "#y_pred_proba_lstm = lstm.predict(X_te)\n",
        "#y_pred_lstm = np.argmax(y_pred_proba_lstm, axis=1)\n",
        "#make_submission(y_pred_lstm, {\"UNT\":0, \"TIN\":1}, df_test, \"submissions/taskb_lstm.csv\")"
      ],
      "execution_count": 68,
      "outputs": [
        {
          "output_type": "stream",
          "text": [
            "_________________________________________________________________\n",
            "Layer (type)                 Output Shape              Param #   \n",
            "=================================================================\n",
            "embedding_4 (Embedding)      (None, 100, 32)           320000    \n",
            "_________________________________________________________________\n",
            "bidirectional_3 (Bidirection (None, 100, 32)           6272      \n",
            "_________________________________________________________________\n",
            "global_max_pooling1d_3 (Glob (None, 32)                0         \n",
            "_________________________________________________________________\n",
            "dropout_5 (Dropout)          (None, 32)                0         \n",
            "_________________________________________________________________\n",
            "dense_8 (Dense)              (None, 8)                 264       \n",
            "_________________________________________________________________\n",
            "dense_9 (Dense)              (None, 3)                 27        \n",
            "=================================================================\n",
            "Total params: 326,563\n",
            "Trainable params: 326,563\n",
            "Non-trainable params: 0\n",
            "_________________________________________________________________\n",
            "None\n",
            "=================================================================\n",
            "=========================== Training ============================\n",
            "========================== Evaluating ===========================\n",
            "3876/3876 [==============================] - 4s 998us/step\n",
            "loss:\t31.9633\n",
            "acc:\t82.6883%\n",
            "========================== Validating ===========================\n",
            "Mean F1 score (3-fold CV):\t52.3065%\n",
            "Mean Accuracy (3-fold CV):\t66.2281%\n"
          ],
          "name": "stdout"
        }
      ]
    },
    {
      "metadata": {
        "id": "xKv1e6kPbVKR",
        "colab_type": "text"
      },
      "cell_type": "markdown",
      "source": [
        "### Bi-LSTM + Conv Layer"
      ]
    },
    {
      "metadata": {
        "id": "D3Rg1IXsax-H",
        "colab_type": "code",
        "colab": {
          "base_uri": "https://localhost:8080/",
          "height": 544
        },
        "outputId": "b041fde3-3674-4736-8139-6c54c7a1c879"
      },
      "cell_type": "code",
      "source": [
        "blc = Sequential()\n",
        "blc.add(Embedding(15000, 16, input_length=100, trainable=True))\n",
        "blc.add(Bidirectional(LSTM(16, return_sequences=True, dropout=0.15, recurrent_dropout=0.15)))\n",
        "blc.add(Conv1D(16, kernel_size=4, padding='valid', kernel_initializer='glorot_uniform'))\n",
        "blc.add(GlobalMaxPool1D())\n",
        "blc.add(Dropout(0.15))\n",
        "blc.add(Dense(8, activation='relu'))\n",
        "blc.add(Dense(3, activation='softmax'))\n",
        "blc.compile(loss=f1_loss, optimizer='adam', metrics=['accuracy'])\n",
        "print(blc.summary())\n",
        "print('=================================================================')\n",
        "\n",
        "# Train Model\n",
        "print('=========================== Training ============================')\n",
        "blc.fit(X_tr, y_cat, epochs=4,  batch_size=64, verbose=False)\n",
        "\n",
        "# Evaluate Model\n",
        "print('========================== Evaluating ===========================')\n",
        "evaluation_blc = blc.evaluate(X_tr, y_cat, batch_size=64, verbose=1)\n",
        "print('{}:\\t{}'.format(blc.metrics_names[0], round(100*evaluation_blc[0],4)))\n",
        "print('{}:\\t{}%'.format(blc.metrics_names[1], round(100*evaluation_blc[1],4)))\n",
        "\n",
        "# K-Fold Cross Validation\n",
        "print('========================== Validating ===========================')\n",
        "test_single_model(blc, X_new, y_train, tokenizer, n_splits=3, random_state=1, verbose=False)\n",
        "(f1_blc, acc_blc) = test_single_model(blc, X_new, y_train, tokenizer, \n",
        "                                      n_splits=3, random_state=1, verbose=False)\n",
        "print('Mean F1 score (3-fold CV):\\t{}%'.format(round(100*f1_blc,4)))\n",
        "print('Mean Accuracy (3-fold CV):\\t{}%'.format(round(100*acc_blc,4)))\n",
        "\n",
        "# Predict on test set and write submission\n",
        "#y_pred_proba_blc = blc.predict(X_te)\n",
        "#y_pred_blc = np.argmax(y_pred_proba_blc, axis=1)\n",
        "#make_submission(y_pred_blc, {\"UNT\":0, \"TIN\":1}, df_test, \"submissions/taskb_blc.csv\")"
      ],
      "execution_count": 67,
      "outputs": [
        {
          "output_type": "stream",
          "text": [
            "_________________________________________________________________\n",
            "Layer (type)                 Output Shape              Param #   \n",
            "=================================================================\n",
            "embedding_3 (Embedding)      (None, 100, 16)           240000    \n",
            "_________________________________________________________________\n",
            "bidirectional_2 (Bidirection (None, 100, 32)           4224      \n",
            "_________________________________________________________________\n",
            "conv1d_2 (Conv1D)            (None, 97, 16)            2064      \n",
            "_________________________________________________________________\n",
            "global_max_pooling1d_2 (Glob (None, 16)                0         \n",
            "_________________________________________________________________\n",
            "dropout_4 (Dropout)          (None, 16)                0         \n",
            "_________________________________________________________________\n",
            "dense_6 (Dense)              (None, 8)                 136       \n",
            "_________________________________________________________________\n",
            "dense_7 (Dense)              (None, 3)                 27        \n",
            "=================================================================\n",
            "Total params: 246,451\n",
            "Trainable params: 246,451\n",
            "Non-trainable params: 0\n",
            "_________________________________________________________________\n",
            "None\n",
            "=================================================================\n",
            "=========================== Training ============================\n",
            "========================== Evaluating ===========================\n",
            "3876/3876 [==============================] - 3s 670us/step\n",
            "loss:\t41.6042\n",
            "acc:\t77.9154%\n",
            "========================== Validating ===========================\n",
            "Mean F1 score (3-fold CV):\t52.114%\n",
            "Mean Accuracy (3-fold CV):\t69.1434%\n"
          ],
          "name": "stdout"
        }
      ]
    },
    {
      "metadata": {
        "id": "UZTDlp-YrnGP",
        "colab_type": "code",
        "colab": {}
      },
      "cell_type": "code",
      "source": [
        ""
      ],
      "execution_count": 0,
      "outputs": []
    }
  ]
}